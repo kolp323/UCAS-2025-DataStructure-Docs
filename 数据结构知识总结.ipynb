{
 "cells": [
  {
   "cell_type": "markdown",
   "metadata": {},
   "source": [
    "# 数据结构详细知识总结\n",
    "\n",
    "本文档包含了数据结构课程的主要知识点总结,包括线性表、栈和队列、串、数组与广义表、树与二叉树、图等重要内容。每个知识点都配有详细解释和代码示例。"
   ]
  },
  {
   "cell_type": "markdown",
   "metadata": {},
   "source": [
    "## 第2章 线性表\n",
    "\n",
    "### 基本概念详解\n",
    "- 线性表是最基础的数据结构,它是由n(n≥0)个数据元素组成的有限序列\n",
    "- 特点:\n",
    "  * 有序性：元素之间存在着序偶关系\n",
    "  * 有限性：元素个数有限\n",
    "  * 同质性：所有元素类型相同\n",
    "  * 线性关系：除首尾外每个元素都有唯一前驱和后继"
   ]
  },
  {
   "cell_type": "code",
   "execution_count": null,
   "metadata": {},
   "outputs": [],
   "source": [
    "# 顺序表的Python实现示例\n",
    "class SequenceList:\n",
    "    def __init__(self, max_size):\n",
    "        self.max_size = max_size\n",
    "        self.data = [None] * max_size\n",
    "        self.length = 0\n",
    "    \n",
    "    def insert(self, index, element):\n",
    "        if self.length >= self.max_size:\n",
    "            raise Exception(\"List is full\")\n",
    "        if index < 0 or index > self.length:\n",
    "            raise Exception(\"Invalid position\")\n",
    "            \n",
    "        # 移动元素\n",
    "        for i in range(self.length, index, -1):\n",
    "            self.data[i] = self.data[i-1]\n",
    "        \n",
    "        self.data[index] = element\n",
    "        self.length += 1"
   ]
  },
  {
   "cell_type": "markdown",
   "metadata": {},
   "source": [
    "### 链式存储结构\n",
    "- 单链表：\n",
    "  * 结构：每个节点包含数据域和指向下一个节点的指针域\n",
    "  * 优点：插入删除只需修改指针,不需要移动元素\n",
    "  * 缺点：不支持随机访问,需要从头遍历\n",
    "\n",
    "- 双链表：\n",
    "  * 结构：每个节点有两个指针域,分别指向前驱和后继\n",
    "  * 优点：可以双向遍历,删除节点时可以快速找到前驱\n",
    "  * 应用：适合需要双向遍历的场景"
   ]
  },
  {
   "cell_type": "code",
   "execution_count": null,
   "metadata": {},
   "outputs": [],
   "source": [
    "# 单链表的Python实现示例\n",
    "class Node:\n",
    "    def __init__(self, data):\n",
    "        self.data = data\n",
    "        self.next = None\n",
    "\n",
    "class LinkedList:\n",
    "    def __init__(self):\n",
    "        self.head = None\n",
    "    \n",
    "    def insert_at_beginning(self, data):\n",
    "        new_node = Node(data)\n",
    "        new_node.next = self.head\n",
    "        self.head = new_node"
   ]
  },
  {
   "cell_type": "markdown",
   "metadata": {},
   "source": [
    "## 第3章 栈和队列\n",
    "\n",
    "### 栈(Stack)的详细讲解\n",
    "\n",
    "#### 1. 基本概念\n",
    "- 定义：只允许在一端进行插入和删除操作的线性表\n",
    "- 特点：\n",
    "  * LIFO(Last In First Out)原理\n",
    "  * 栈顶：允许操作的一端\n",
    "  * 栈底：另一端\n",
    "  * 空栈：不含任何元素的栈"
   ]
  },
  {
   "cell_type": "code",
   "execution_count": null,
   "metadata": {},
   "outputs": [],
   "source": [
    "# 栈的Python实现示例\n",
    "class Stack:\n",
    "    def __init__(self):\n",
    "        self.items = []\n",
    "    \n",
    "    def push(self, item):\n",
    "        self.items.append(item)\n",
    "    \n",
    "    def pop(self):\n",
    "        if not self.is_empty():\n",
    "            return self.items.pop()\n",
    "    \n",
    "    def peek(self):\n",
    "        if not self.is_empty():\n",
    "            return self.items[-1]\n",
    "    \n",
    "    def is_empty(self):\n",
    "        return len(self.items) == 0"
   ]
  },
  {
   "cell_type": "markdown",
   "metadata": {},
   "source": [
    "### 队列(Queue)的详细讲解\n",
    "\n",
    "#### 1. 基本概念\n",
    "- 定义：只允许在一端进行插入、在另一端进行删除的线性表\n",
    "- 特点：\n",
    "  * FIFO(First In First Out)原理\n",
    "  * 队头：允许删除的一端\n",
    "  * 队尾：允许插入的一端"
   ]
  },
  {
   "cell_type": "code",
   "execution_count": null,
   "metadata": {},
   "outputs": [],
   "source": [
    "# 队列的Python实现示例\n",
    "class Queue:\n",
    "    def __init__(self):\n",
    "        self.items = []\n",
    "    \n",
    "    def enqueue(self, item):\n",
    "        self.items.append(item)\n",
    "    \n",
    "    def dequeue(self):\n",
    "        if not self.is_empty():\n",
    "            return self.items.pop(0)\n",
    "    \n",
    "    def front(self):\n",
    "        if not self.is_empty():\n",
    "            return self.items[0]\n",
    "    \n",
    "    def is_empty(self):\n",
    "        return len(self.items) == 0"
   ]
  },
  {
   "cell_type": "markdown",
   "metadata": {},
   "source": [
    "## 第4章 串(String)\n",
    "\n",
    "### 1. 基本概念详解\n",
    "- 定义：由零个或多个字符组成的有限序列\n",
    "- 空串：长度为0的串\n",
    "- 子串：串中任意个连续字符组成的子序列\n",
    "- 主串：包含子串的串"
   ]
  },
  {
   "cell_type": "code",
   "execution_count": null,
   "metadata": {},
   "outputs": [],
   "source": [
    "# KMP算法的Python实现示例\n",
    "def get_next(pattern):\n",
    "    next = [-1] * len(pattern)\n",
    "    k = -1\n",
    "    j = 0\n",
    "    while j < len(pattern) - 1:\n",
    "        if k == -1 or pattern[j] == pattern[k]:\n",
    "            k += 1\n",
    "            j += 1\n",
    "            next[j] = k\n",
    "        else:\n",
    "            k = next[k]\n",
    "    return next\n",
    "\n",
    "def kmp_search(text, pattern):\n",
    "    next = get_next(pattern)\n",
    "    i = j = 0\n",
    "    while i < len(text) and j < len(pattern):\n",
    "        if j == -1 or text[i] == pattern[j]:\n",
    "            i += 1\n",
    "            j += 1\n",
    "        else:\n",
    "            j = next[j]\n",
    "    if j == len(pattern):\n",
    "        return i - j\n",
    "    return -1"
   ]
  },
  {
   "cell_type": "markdown",
   "metadata": {},
   "source": [
    "## 第5章 数组与广义表\n",
    "\n",
    "### 数组详解\n",
    "\n",
    "#### 1. 基本特点\n",
    "- 定义：相同类型数据元素的有限序列\n",
    "- 特征：\n",
    "  * 下标访问\n",
    "  * 元素类型相同\n",
    "  * 存储空间连续"
   ]
  },
  {
   "cell_type": "code",
   "execution_count": null,
   "metadata": {},
   "outputs": [],
   "source": [
    "# 二维数组的Python实现示例\n",
    "class Matrix:\n",
    "    def __init__(self, rows, cols):\n",
    "        self.rows = rows\n",
    "        self.cols = cols\n",
    "        self.data = [[0] * cols for _ in range(rows)]\n",
    "    \n",
    "    def get(self, i, j):\n",
    "        if 0 <= i < self.rows and 0 <= j < self.cols:\n",
    "            return self.data[i][j]\n",
    "        raise IndexError(\"Matrix index out of range\")\n",
    "    \n",
    "    def set(self, i, j, value):\n",
    "        if 0 <= i < self.rows and 0 <= j < self.cols:\n",
    "            self.data[i][j] = value\n",
    "        else:\n",
    "            raise IndexError(\"Matrix index out of range\")"
   ]
  },
  {
   "cell_type": "markdown",
   "metadata": {},
   "source": [
    "## 第6章 树与二叉树\n",
    "\n",
    "### 二叉树详解\n",
    "\n",
    "#### 1. 基本概念\n",
    "- 定义：每个节点最多有两个子树的树结构\n",
    "- 特性：\n",
    "  * 第i层最多有2^(i-1)个节点\n",
    "  * 深度为k的二叉树最多有2^k-1个节点\n",
    "  * 叶子节点数为n0，度为2的节点数为n2，则n0=n2+1"
   ]
  },
  {
   "cell_type": "code",
   "execution_count": null,
   "metadata": {},
   "outputs": [],
   "source": [
    "# 二叉树的Python实现示例\n",
    "class TreeNode:\n",
    "    def __init__(self, val=0):\n",
    "        self.val = val\n",
    "        self.left = None\n",
    "        self.right = None\n",
    "\n",
    "def preorder(root):\n",
    "    if root:\n",
    "        print(root.val)\n",
    "        preorder(root.left)\n",
    "        preorder(root.right)\n",
    "\n",
    "def inorder(root):\n",
    "    if root:\n",
    "        inorder(root.left)\n",
    "        print(root.val)\n",
    "        inorder(root.right)\n",
    "\n",
    "def postorder(root):\n",
    "    if root:\n",
    "        postorder(root.left)\n",
    "        postorder(root.right)\n",
    "        print(root.val)"
   ]
  },
  {
   "cell_type": "markdown",
   "metadata": {},
   "source": [
    "## 第7章 图\n",
    "\n",
    "### 基本概念详解\n",
    "\n",
    "#### 1. 图的定义\n",
    "- 顶点集和边集构成的二元组G=(V,E)\n",
    "- 有向图：边有方向\n",
    "- 无向图：边无方向\n",
    "- 带权图：边有权值"
   ]
  },
  {
   "cell_type": "code",
   "execution_count": null,
   "metadata": {},
   "outputs": [],
   "source": [
    "# 图的邻接矩阵实现\n",
    "class Graph:\n",
    "    def __init__(self, vertices):\n",
    "        self.V = vertices\n",
    "        self.graph = [[0] * vertices for _ in range(vertices)]\n",
    "    \n",
    "    def add_edge(self, u, v, weight=1):\n",
    "        self.graph[u][v] = weight\n",
    "        self.graph[v][u] = weight  # 无向图\n",
    "\n",
    "# 图的邻接表实现\n",
    "class GraphAdjList:\n",
    "    def __init__(self, vertices):\n",
    "        self.V = vertices\n",
    "        self.graph = [[] for _ in range(vertices)]\n",
    "    \n",
    "    def add_edge(self, u, v):\n",
    "        self.graph[u].append(v)\n",
    "        self.graph[v].append(u)  # 无向图"
   ]
  }
 ],
 "metadata": {
  "kernelspec": {
   "display_name": "Python 3",
   "language": "python",
   "name": "python3"
  },
  "language_info": {
   "codemirror_mode": {
    "name": "ipython",
    "version": 3
   },
   "file_extension": ".py",
   "mimetype": "text/x-python",
   "name": "python",
   "nbconvert_exporter": "python",
   "pygments_lexer": "ipython3",
   "version": "3.8.0"
  }
 },
 "nbformat": 4,
 "nbformat_minor": 4
}